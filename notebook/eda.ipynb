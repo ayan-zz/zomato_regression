{
 "cells": [
  {
   "cell_type": "code",
   "execution_count": 208,
   "metadata": {},
   "outputs": [],
   "source": [
    "import pandas as pd\n",
    "import numpy as np"
   ]
  },
  {
   "cell_type": "code",
   "execution_count": 209,
   "metadata": {},
   "outputs": [
    {
     "ename": "FileNotFoundError",
     "evalue": "[Errno 2] No such file or directory: 'C:\\\\Users\\\\Lenovo\\\\Downloads\\\\ML project\\\\zomato_reg\\\\data.csv'",
     "output_type": "error",
     "traceback": [
      "\u001b[1;31m---------------------------------------------------------------------------\u001b[0m",
      "\u001b[1;31mFileNotFoundError\u001b[0m                         Traceback (most recent call last)",
      "Cell \u001b[1;32mIn[209], line 1\u001b[0m\n\u001b[1;32m----> 1\u001b[0m data\u001b[39m=\u001b[39mpd\u001b[39m.\u001b[39;49mread_csv(\u001b[39m\"\u001b[39;49m\u001b[39mC:\u001b[39;49m\u001b[39m\\\\\u001b[39;49;00m\u001b[39mUsers\u001b[39;49m\u001b[39m\\\\\u001b[39;49;00m\u001b[39mLenovo\u001b[39;49m\u001b[39m\\\\\u001b[39;49;00m\u001b[39mDownloads\u001b[39;49m\u001b[39m\\\\\u001b[39;49;00m\u001b[39mML project\u001b[39;49m\u001b[39m\\\\\u001b[39;49;00m\u001b[39mzomato_reg\u001b[39;49m\u001b[39m\\\\\u001b[39;49;00m\u001b[39mdata.csv\u001b[39;49m\u001b[39m\"\u001b[39;49m)\n\u001b[0;32m      2\u001b[0m data\u001b[39m=\u001b[39mpd\u001b[39m.\u001b[39mDataFrame(data)\n\u001b[0;32m      3\u001b[0m data\u001b[39m.\u001b[39mhead()\n",
      "File \u001b[1;32mc:\\Users\\Lenovo\\Downloads\\ML project\\zomato_reg\\zm\\lib\\site-packages\\pandas\\io\\parsers\\readers.py:912\u001b[0m, in \u001b[0;36mread_csv\u001b[1;34m(filepath_or_buffer, sep, delimiter, header, names, index_col, usecols, dtype, engine, converters, true_values, false_values, skipinitialspace, skiprows, skipfooter, nrows, na_values, keep_default_na, na_filter, verbose, skip_blank_lines, parse_dates, infer_datetime_format, keep_date_col, date_parser, date_format, dayfirst, cache_dates, iterator, chunksize, compression, thousands, decimal, lineterminator, quotechar, quoting, doublequote, escapechar, comment, encoding, encoding_errors, dialect, on_bad_lines, delim_whitespace, low_memory, memory_map, float_precision, storage_options, dtype_backend)\u001b[0m\n\u001b[0;32m    899\u001b[0m kwds_defaults \u001b[39m=\u001b[39m _refine_defaults_read(\n\u001b[0;32m    900\u001b[0m     dialect,\n\u001b[0;32m    901\u001b[0m     delimiter,\n\u001b[1;32m   (...)\u001b[0m\n\u001b[0;32m    908\u001b[0m     dtype_backend\u001b[39m=\u001b[39mdtype_backend,\n\u001b[0;32m    909\u001b[0m )\n\u001b[0;32m    910\u001b[0m kwds\u001b[39m.\u001b[39mupdate(kwds_defaults)\n\u001b[1;32m--> 912\u001b[0m \u001b[39mreturn\u001b[39;00m _read(filepath_or_buffer, kwds)\n",
      "File \u001b[1;32mc:\\Users\\Lenovo\\Downloads\\ML project\\zomato_reg\\zm\\lib\\site-packages\\pandas\\io\\parsers\\readers.py:577\u001b[0m, in \u001b[0;36m_read\u001b[1;34m(filepath_or_buffer, kwds)\u001b[0m\n\u001b[0;32m    574\u001b[0m _validate_names(kwds\u001b[39m.\u001b[39mget(\u001b[39m\"\u001b[39m\u001b[39mnames\u001b[39m\u001b[39m\"\u001b[39m, \u001b[39mNone\u001b[39;00m))\n\u001b[0;32m    576\u001b[0m \u001b[39m# Create the parser.\u001b[39;00m\n\u001b[1;32m--> 577\u001b[0m parser \u001b[39m=\u001b[39m TextFileReader(filepath_or_buffer, \u001b[39m*\u001b[39;49m\u001b[39m*\u001b[39;49mkwds)\n\u001b[0;32m    579\u001b[0m \u001b[39mif\u001b[39;00m chunksize \u001b[39mor\u001b[39;00m iterator:\n\u001b[0;32m    580\u001b[0m     \u001b[39mreturn\u001b[39;00m parser\n",
      "File \u001b[1;32mc:\\Users\\Lenovo\\Downloads\\ML project\\zomato_reg\\zm\\lib\\site-packages\\pandas\\io\\parsers\\readers.py:1407\u001b[0m, in \u001b[0;36mTextFileReader.__init__\u001b[1;34m(self, f, engine, **kwds)\u001b[0m\n\u001b[0;32m   1404\u001b[0m     \u001b[39mself\u001b[39m\u001b[39m.\u001b[39moptions[\u001b[39m\"\u001b[39m\u001b[39mhas_index_names\u001b[39m\u001b[39m\"\u001b[39m] \u001b[39m=\u001b[39m kwds[\u001b[39m\"\u001b[39m\u001b[39mhas_index_names\u001b[39m\u001b[39m\"\u001b[39m]\n\u001b[0;32m   1406\u001b[0m \u001b[39mself\u001b[39m\u001b[39m.\u001b[39mhandles: IOHandles \u001b[39m|\u001b[39m \u001b[39mNone\u001b[39;00m \u001b[39m=\u001b[39m \u001b[39mNone\u001b[39;00m\n\u001b[1;32m-> 1407\u001b[0m \u001b[39mself\u001b[39m\u001b[39m.\u001b[39m_engine \u001b[39m=\u001b[39m \u001b[39mself\u001b[39;49m\u001b[39m.\u001b[39;49m_make_engine(f, \u001b[39mself\u001b[39;49m\u001b[39m.\u001b[39;49mengine)\n",
      "File \u001b[1;32mc:\\Users\\Lenovo\\Downloads\\ML project\\zomato_reg\\zm\\lib\\site-packages\\pandas\\io\\parsers\\readers.py:1661\u001b[0m, in \u001b[0;36mTextFileReader._make_engine\u001b[1;34m(self, f, engine)\u001b[0m\n\u001b[0;32m   1659\u001b[0m     \u001b[39mif\u001b[39;00m \u001b[39m\"\u001b[39m\u001b[39mb\u001b[39m\u001b[39m\"\u001b[39m \u001b[39mnot\u001b[39;00m \u001b[39min\u001b[39;00m mode:\n\u001b[0;32m   1660\u001b[0m         mode \u001b[39m+\u001b[39m\u001b[39m=\u001b[39m \u001b[39m\"\u001b[39m\u001b[39mb\u001b[39m\u001b[39m\"\u001b[39m\n\u001b[1;32m-> 1661\u001b[0m \u001b[39mself\u001b[39m\u001b[39m.\u001b[39mhandles \u001b[39m=\u001b[39m get_handle(\n\u001b[0;32m   1662\u001b[0m     f,\n\u001b[0;32m   1663\u001b[0m     mode,\n\u001b[0;32m   1664\u001b[0m     encoding\u001b[39m=\u001b[39;49m\u001b[39mself\u001b[39;49m\u001b[39m.\u001b[39;49moptions\u001b[39m.\u001b[39;49mget(\u001b[39m\"\u001b[39;49m\u001b[39mencoding\u001b[39;49m\u001b[39m\"\u001b[39;49m, \u001b[39mNone\u001b[39;49;00m),\n\u001b[0;32m   1665\u001b[0m     compression\u001b[39m=\u001b[39;49m\u001b[39mself\u001b[39;49m\u001b[39m.\u001b[39;49moptions\u001b[39m.\u001b[39;49mget(\u001b[39m\"\u001b[39;49m\u001b[39mcompression\u001b[39;49m\u001b[39m\"\u001b[39;49m, \u001b[39mNone\u001b[39;49;00m),\n\u001b[0;32m   1666\u001b[0m     memory_map\u001b[39m=\u001b[39;49m\u001b[39mself\u001b[39;49m\u001b[39m.\u001b[39;49moptions\u001b[39m.\u001b[39;49mget(\u001b[39m\"\u001b[39;49m\u001b[39mmemory_map\u001b[39;49m\u001b[39m\"\u001b[39;49m, \u001b[39mFalse\u001b[39;49;00m),\n\u001b[0;32m   1667\u001b[0m     is_text\u001b[39m=\u001b[39;49mis_text,\n\u001b[0;32m   1668\u001b[0m     errors\u001b[39m=\u001b[39;49m\u001b[39mself\u001b[39;49m\u001b[39m.\u001b[39;49moptions\u001b[39m.\u001b[39;49mget(\u001b[39m\"\u001b[39;49m\u001b[39mencoding_errors\u001b[39;49m\u001b[39m\"\u001b[39;49m, \u001b[39m\"\u001b[39;49m\u001b[39mstrict\u001b[39;49m\u001b[39m\"\u001b[39;49m),\n\u001b[0;32m   1669\u001b[0m     storage_options\u001b[39m=\u001b[39;49m\u001b[39mself\u001b[39;49m\u001b[39m.\u001b[39;49moptions\u001b[39m.\u001b[39;49mget(\u001b[39m\"\u001b[39;49m\u001b[39mstorage_options\u001b[39;49m\u001b[39m\"\u001b[39;49m, \u001b[39mNone\u001b[39;49;00m),\n\u001b[0;32m   1670\u001b[0m )\n\u001b[0;32m   1671\u001b[0m \u001b[39massert\u001b[39;00m \u001b[39mself\u001b[39m\u001b[39m.\u001b[39mhandles \u001b[39mis\u001b[39;00m \u001b[39mnot\u001b[39;00m \u001b[39mNone\u001b[39;00m\n\u001b[0;32m   1672\u001b[0m f \u001b[39m=\u001b[39m \u001b[39mself\u001b[39m\u001b[39m.\u001b[39mhandles\u001b[39m.\u001b[39mhandle\n",
      "File \u001b[1;32mc:\\Users\\Lenovo\\Downloads\\ML project\\zomato_reg\\zm\\lib\\site-packages\\pandas\\io\\common.py:859\u001b[0m, in \u001b[0;36mget_handle\u001b[1;34m(path_or_buf, mode, encoding, compression, memory_map, is_text, errors, storage_options)\u001b[0m\n\u001b[0;32m    854\u001b[0m \u001b[39melif\u001b[39;00m \u001b[39misinstance\u001b[39m(handle, \u001b[39mstr\u001b[39m):\n\u001b[0;32m    855\u001b[0m     \u001b[39m# Check whether the filename is to be opened in binary mode.\u001b[39;00m\n\u001b[0;32m    856\u001b[0m     \u001b[39m# Binary mode does not support 'encoding' and 'newline'.\u001b[39;00m\n\u001b[0;32m    857\u001b[0m     \u001b[39mif\u001b[39;00m ioargs\u001b[39m.\u001b[39mencoding \u001b[39mand\u001b[39;00m \u001b[39m\"\u001b[39m\u001b[39mb\u001b[39m\u001b[39m\"\u001b[39m \u001b[39mnot\u001b[39;00m \u001b[39min\u001b[39;00m ioargs\u001b[39m.\u001b[39mmode:\n\u001b[0;32m    858\u001b[0m         \u001b[39m# Encoding\u001b[39;00m\n\u001b[1;32m--> 859\u001b[0m         handle \u001b[39m=\u001b[39m \u001b[39mopen\u001b[39;49m(\n\u001b[0;32m    860\u001b[0m             handle,\n\u001b[0;32m    861\u001b[0m             ioargs\u001b[39m.\u001b[39;49mmode,\n\u001b[0;32m    862\u001b[0m             encoding\u001b[39m=\u001b[39;49mioargs\u001b[39m.\u001b[39;49mencoding,\n\u001b[0;32m    863\u001b[0m             errors\u001b[39m=\u001b[39;49merrors,\n\u001b[0;32m    864\u001b[0m             newline\u001b[39m=\u001b[39;49m\u001b[39m\"\u001b[39;49m\u001b[39m\"\u001b[39;49m,\n\u001b[0;32m    865\u001b[0m         )\n\u001b[0;32m    866\u001b[0m     \u001b[39melse\u001b[39;00m:\n\u001b[0;32m    867\u001b[0m         \u001b[39m# Binary mode\u001b[39;00m\n\u001b[0;32m    868\u001b[0m         handle \u001b[39m=\u001b[39m \u001b[39mopen\u001b[39m(handle, ioargs\u001b[39m.\u001b[39mmode)\n",
      "\u001b[1;31mFileNotFoundError\u001b[0m: [Errno 2] No such file or directory: 'C:\\\\Users\\\\Lenovo\\\\Downloads\\\\ML project\\\\zomato_reg\\\\data.csv'"
     ]
    }
   ],
   "source": [
    "data=pd.read_csv(\"C:\\\\Users\\\\Lenovo\\\\Downloads\\\\ML project\\\\zomato_reg\\\\data.csv\")\n",
    "data=pd.DataFrame(data)\n",
    "data.head()"
   ]
  },
  {
   "cell_type": "markdown",
   "metadata": {},
   "source": []
  },
  {
   "cell_type": "code",
   "execution_count": 3,
   "metadata": {},
   "outputs": [
    {
     "data": {
      "text/plain": [
       "Index(['ID', 'Delivery_person_ID', 'Delivery_person_Age',\n",
       "       'Delivery_person_Ratings', 'Restaurant_latitude',\n",
       "       'Restaurant_longitude', 'Delivery_location_latitude',\n",
       "       'Delivery_location_longitude', 'Order_Date', 'Time_Orderd',\n",
       "       'Time_Order_picked', 'Weather_conditions', 'Road_traffic_density',\n",
       "       'Vehicle_condition', 'Type_of_order', 'Type_of_vehicle',\n",
       "       'multiple_deliveries', 'Festival', 'City', 'Time_taken_min'],\n",
       "      dtype='object')"
      ]
     },
     "execution_count": 3,
     "metadata": {},
     "output_type": "execute_result"
    }
   ],
   "source": [
    "data.columns"
   ]
  },
  {
   "cell_type": "code",
   "execution_count": 210,
   "metadata": {},
   "outputs": [
    {
     "name": "stdout",
     "output_type": "stream",
     "text": [
      "<class 'pandas.core.frame.DataFrame'>\n",
      "RangeIndex: 45584 entries, 0 to 45583\n",
      "Data columns (total 20 columns):\n",
      " #   Column                       Non-Null Count  Dtype  \n",
      "---  ------                       --------------  -----  \n",
      " 0   ID                           45584 non-null  object \n",
      " 1   Delivery_person_ID           45584 non-null  object \n",
      " 2   Delivery_person_Age          43730 non-null  float64\n",
      " 3   Delivery_person_Ratings      43676 non-null  float64\n",
      " 4   Restaurant_latitude          45584 non-null  float64\n",
      " 5   Restaurant_longitude         45584 non-null  float64\n",
      " 6   Delivery_location_latitude   45584 non-null  float64\n",
      " 7   Delivery_location_longitude  45584 non-null  float64\n",
      " 8   Order_Date                   45584 non-null  object \n",
      " 9   Time_Orderd                  43853 non-null  object \n",
      " 10  Time_Order_picked            45584 non-null  object \n",
      " 11  Weather_conditions           44968 non-null  object \n",
      " 12  Road_traffic_density         44983 non-null  object \n",
      " 13  Vehicle_condition            45584 non-null  int64  \n",
      " 14  Type_of_order                45584 non-null  object \n",
      " 15  Type_of_vehicle              45584 non-null  object \n",
      " 16  multiple_deliveries          44591 non-null  float64\n",
      " 17  Festival                     45356 non-null  object \n",
      " 18  City                         44384 non-null  object \n",
      " 19  Time_taken_min               45584 non-null  int64  \n",
      "dtypes: float64(7), int64(2), object(11)\n",
      "memory usage: 7.0+ MB\n"
     ]
    }
   ],
   "source": [
    "data.info()\n"
   ]
  },
  {
   "cell_type": "code",
   "execution_count": 211,
   "metadata": {},
   "outputs": [
    {
     "name": "stdout",
     "output_type": "stream",
     "text": [
      "Weather_conditions\n",
      "Fog           7653\n",
      "Stormy        7584\n",
      "Cloudy        7533\n",
      "Sandstorms    7494\n",
      "Windy         7422\n",
      "Sunny         7282\n",
      "Name: count, dtype: int64\n",
      "================================\n",
      "Road_traffic_density\n",
      "Low       15476\n",
      "Jam       14139\n",
      "Medium    10945\n",
      "High       4423\n",
      "Name: count, dtype: int64\n",
      "================================\n",
      "Type_of_order\n",
      "Snack     11530\n",
      "Meal      11456\n",
      "Drinks    11321\n",
      "Buffet    11277\n",
      "Name: count, dtype: int64\n",
      "================================\n",
      "Vehicle_condition\n",
      "2    15031\n",
      "1    15028\n",
      "0    15005\n",
      "3      520\n",
      "Name: count, dtype: int64\n",
      "================================\n",
      "Type_of_vehicle\n",
      "motorcycle          26429\n",
      "scooter             15273\n",
      "electric_scooter     3814\n",
      "bicycle                68\n",
      "Name: count, dtype: int64\n",
      "================================\n",
      "multiple_deliveries\n",
      "1.0    28151\n",
      "0.0    14094\n",
      "2.0     1985\n",
      "3.0      361\n",
      "Name: count, dtype: int64\n",
      "================================\n",
      "Festival\n",
      "No     44460\n",
      "Yes      896\n",
      "Name: count, dtype: int64\n",
      "================================\n",
      "City\n",
      "Metropolitian    34087\n",
      "Urban            10133\n",
      "Semi-Urban         164\n",
      "Name: count, dtype: int64\n",
      "================================\n"
     ]
    }
   ],
   "source": [
    "print(data['Weather_conditions'].value_counts())\n",
    "print('='*32)\n",
    "print(data['Road_traffic_density'].value_counts())\n",
    "print('='*32)\n",
    "print(data['Type_of_order'].value_counts())\n",
    "print('='*32)\n",
    "print(data['Vehicle_condition'].value_counts())\n",
    "print('='*32)\n",
    "print(data['Type_of_vehicle'].value_counts())\n",
    "print('='*32)\n",
    "print(data['multiple_deliveries'].value_counts())\n",
    "print('='*32)\n",
    "print(data['Festival'].value_counts())\n",
    "print('='*32)\n",
    "print(data['City'].value_counts())\n",
    "print('='*32)"
   ]
  },
  {
   "cell_type": "code",
   "execution_count": 212,
   "metadata": {},
   "outputs": [
    {
     "data": {
      "text/plain": [
       "ID                                0\n",
       "Delivery_person_ID                0\n",
       "Delivery_person_Age            1854\n",
       "Delivery_person_Ratings        1908\n",
       "Restaurant_latitude               0\n",
       "Restaurant_longitude              0\n",
       "Delivery_location_latitude        0\n",
       "Delivery_location_longitude       0\n",
       "Order_Date                        0\n",
       "Time_Orderd                    1731\n",
       "Time_Order_picked                 0\n",
       "Weather_conditions              616\n",
       "Road_traffic_density            601\n",
       "Vehicle_condition                 0\n",
       "Type_of_order                     0\n",
       "Type_of_vehicle                   0\n",
       "multiple_deliveries             993\n",
       "Festival                        228\n",
       "City                           1200\n",
       "Time_taken_min                    0\n",
       "dtype: int64"
      ]
     },
     "execution_count": 212,
     "metadata": {},
     "output_type": "execute_result"
    }
   ],
   "source": [
    "data.isna().sum()"
   ]
  },
  {
   "cell_type": "code",
   "execution_count": 213,
   "metadata": {},
   "outputs": [
    {
     "data": {
      "image/png": "[encoded data removed]",
      "text/plain": [
       "<Figure size 2000x700 with 2 Axes>"
      ]
     },
     "metadata": {},
     "output_type": "display_data"
    }
   ],
   "source": [
    "import seaborn as sns\n",
    "import matplotlib.pyplot as plt\n",
    "fig, axs = plt.subplots(1, 2, figsize=(20, 7))\n",
    "plt.subplot(121)\n",
    "sns.histplot(data['Delivery_person_Age'],bins=5,color='g')\n",
    "plt.subplot(122)\n",
    "sns.histplot(data['Delivery_person_Ratings'],bins=5,color='b')\n",
    "\n",
    "plt.show()"
   ]
  },
  {
   "attachments": {},
   "cell_type": "markdown",
   "metadata": {},
   "source": [
    "Observations:\n",
    "1. The maximum or overall oveservation of Delivery_person_age lie in the range between 20 to 40, with high distribution in range between 25-35 years of age. Hence we will use median value for updating the NaN type datas.\n",
    "2. The Delivery_person_rating has a good rating of range from 4 to 5 as the maximum."
   ]
  },
  {
   "cell_type": "code",
   "execution_count": 214,
   "metadata": {},
   "outputs": [
    {
     "data": {
      "image/png": "[encoded data removed]",
      "text/plain": [
       "<Figure size 2000x700 with 2 Axes>"
      ]
     },
     "metadata": {},
     "output_type": "display_data"
    }
   ],
   "source": [
    "axs,fig =plt.subplots(1,2,figsize=(20,7))\n",
    "plt.subplot(121)\n",
    "sns.histplot(data['Time_Orderd'],color='y')\n",
    "plt.subplot(122)\n",
    "sns.histplot(data['Weather_conditions'],bins=20)\n",
    "plt.show()"
   ]
  },
  {
   "cell_type": "code",
   "execution_count": 215,
   "metadata": {},
   "outputs": [
    {
     "data": {
      "text/html": [
       "<div>\n",
       "<style scoped>\n",
       "    .dataframe tbody tr th:only-of-type {\n",
       "        vertical-align: middle;\n",
       "    }\n",
       "\n",
       "    .dataframe tbody tr th {\n",
       "        vertical-align: top;\n",
       "    }\n",
       "\n",
       "    .dataframe thead th {\n",
       "        text-align: right;\n",
       "    }\n",
       "</style>\n",
       "<table border=\"1\" class=\"dataframe\">\n",
       "  <thead>\n",
       "    <tr style=\"text-align: right;\">\n",
       "      <th></th>\n",
       "      <th>0</th>\n",
       "    </tr>\n",
       "  </thead>\n",
       "  <tbody>\n",
       "    <tr>\n",
       "      <th>45579</th>\n",
       "      <td>11.35</td>\n",
       "    </tr>\n",
       "    <tr>\n",
       "      <th>45580</th>\n",
       "      <td>19.55</td>\n",
       "    </tr>\n",
       "    <tr>\n",
       "      <th>45581</th>\n",
       "      <td>23.50</td>\n",
       "    </tr>\n",
       "    <tr>\n",
       "      <th>45582</th>\n",
       "      <td>13.35</td>\n",
       "    </tr>\n",
       "    <tr>\n",
       "      <th>45583</th>\n",
       "      <td>17.10</td>\n",
       "    </tr>\n",
       "  </tbody>\n",
       "</table>\n",
       "</div>"
      ],
      "text/plain": [
       "           0\n",
       "45579  11.35\n",
       "45580  19.55\n",
       "45581  23.50\n",
       "45582  13.35\n",
       "45583  17.10"
      ]
     },
     "execution_count": 215,
     "metadata": {},
     "output_type": "execute_result"
    }
   ],
   "source": [
    "dfs=data['Time_Orderd'].fillna('0')\n",
    "dd=dfs.values\n",
    "ds=[]\n",
    "for i in range(0,len(dd)):\n",
    "    dss=str(dd[i])\n",
    "    sp = dss.split(':')\n",
    "    if len(sp) == 2:\n",
    "        ss = sp[0] + '.' + sp[1]\n",
    "    elif len(sp) == 3:\n",
    "        ss = sp[0] + '.' + sp[1]\n",
    "    else:\n",
    "        ss=sp[0]\n",
    "    ds.append(ss)\n",
    "df=pd.DataFrame(ds)\n",
    "df=df.astype(float)\n",
    "df.tail()"
   ]
  },
  {
   "cell_type": "code",
   "execution_count": 216,
   "metadata": {},
   "outputs": [
    {
     "data": {
      "text/html": [
       "<div>\n",
       "<style scoped>\n",
       "    .dataframe tbody tr th:only-of-type {\n",
       "        vertical-align: middle;\n",
       "    }\n",
       "\n",
       "    .dataframe tbody tr th {\n",
       "        vertical-align: top;\n",
       "    }\n",
       "\n",
       "    .dataframe thead th {\n",
       "        text-align: right;\n",
       "    }\n",
       "</style>\n",
       "<table border=\"1\" class=\"dataframe\">\n",
       "  <thead>\n",
       "    <tr style=\"text-align: right;\">\n",
       "      <th></th>\n",
       "      <th>0</th>\n",
       "    </tr>\n",
       "  </thead>\n",
       "  <tbody>\n",
       "    <tr>\n",
       "      <th>45579</th>\n",
       "      <td>11.45</td>\n",
       "    </tr>\n",
       "    <tr>\n",
       "      <th>45580</th>\n",
       "      <td>20.10</td>\n",
       "    </tr>\n",
       "    <tr>\n",
       "      <th>45581</th>\n",
       "      <td>0.00</td>\n",
       "    </tr>\n",
       "    <tr>\n",
       "      <th>45582</th>\n",
       "      <td>13.40</td>\n",
       "    </tr>\n",
       "    <tr>\n",
       "      <th>45583</th>\n",
       "      <td>17.15</td>\n",
       "    </tr>\n",
       "  </tbody>\n",
       "</table>\n",
       "</div>"
      ],
      "text/plain": [
       "           0\n",
       "45579  11.45\n",
       "45580  20.10\n",
       "45581   0.00\n",
       "45582  13.40\n",
       "45583  17.15"
      ]
     },
     "execution_count": 216,
     "metadata": {},
     "output_type": "execute_result"
    }
   ],
   "source": [
    "dfs2=data['Time_Order_picked'].fillna('0')\n",
    "dd2=dfs2.values\n",
    "ds2=[]\n",
    "for i in range(0,len(dd2)):\n",
    "    dss2=str(dd2[i])\n",
    "    sp2 = dss2.split(':')\n",
    "    if len(sp2) == 2:\n",
    "        ss = sp2[0] + '.' + sp2[1]\n",
    "    elif len(sp2) == 3:\n",
    "        ss = sp2[0] + '.' + sp2[1]\n",
    "    else:\n",
    "        ss=sp2[0]\n",
    "    ds2.append(ss)\n",
    "df2=pd.DataFrame(ds2)\n",
    "df1=df2.astype(float)\n",
    "df1.tail()\n"
   ]
  },
  {
   "attachments": {},
   "cell_type": "markdown",
   "metadata": {},
   "source": [
    "Coverting the time ordered and time order picked into total time taken between these activities as 'time_before_pick', by substracting both features. Dropping the Time_Order_picked and Time_Orderd as they are not necessary now."
   ]
  },
  {
   "cell_type": "code",
   "execution_count": 217,
   "metadata": {},
   "outputs": [
    {
     "data": {
      "text/html": [
       "<div>\n",
       "<style scoped>\n",
       "    .dataframe tbody tr th:only-of-type {\n",
       "        vertical-align: middle;\n",
       "    }\n",
       "\n",
       "    .dataframe tbody tr th {\n",
       "        vertical-align: top;\n",
       "    }\n",
       "\n",
       "    .dataframe thead th {\n",
       "        text-align: right;\n",
       "    }\n",
       "</style>\n",
       "<table border=\"1\" class=\"dataframe\">\n",
       "  <thead>\n",
       "    <tr style=\"text-align: right;\">\n",
       "      <th></th>\n",
       "      <th>ID</th>\n",
       "      <th>Delivery_person_ID</th>\n",
       "      <th>Delivery_person_Age</th>\n",
       "      <th>Delivery_person_Ratings</th>\n",
       "      <th>Restaurant_latitude</th>\n",
       "      <th>Restaurant_longitude</th>\n",
       "      <th>Delivery_location_latitude</th>\n",
       "      <th>Delivery_location_longitude</th>\n",
       "      <th>Order_Date</th>\n",
       "      <th>Weather_conditions</th>\n",
       "      <th>Road_traffic_density</th>\n",
       "      <th>Vehicle_condition</th>\n",
       "      <th>Type_of_order</th>\n",
       "      <th>Type_of_vehicle</th>\n",
       "      <th>multiple_deliveries</th>\n",
       "      <th>Festival</th>\n",
       "      <th>City</th>\n",
       "      <th>Time_taken_min</th>\n",
       "      <th>time_before_pick</th>\n",
       "    </tr>\n",
       "  </thead>\n",
       "  <tbody>\n",
       "    <tr>\n",
       "      <th>0</th>\n",
       "      <td>0xcdcd</td>\n",
       "      <td>DEHRES17DEL01</td>\n",
       "      <td>36.0</td>\n",
       "      <td>4.2</td>\n",
       "      <td>30.327968</td>\n",
       "      <td>78.046106</td>\n",
       "      <td>30.397968</td>\n",
       "      <td>78.116106</td>\n",
       "      <td>12-02-2022</td>\n",
       "      <td>Fog</td>\n",
       "      <td>Jam</td>\n",
       "      <td>2</td>\n",
       "      <td>Snack</td>\n",
       "      <td>motorcycle</td>\n",
       "      <td>3.0</td>\n",
       "      <td>No</td>\n",
       "      <td>Metropolitian</td>\n",
       "      <td>46</td>\n",
       "      <td>0.55</td>\n",
       "    </tr>\n",
       "    <tr>\n",
       "      <th>1</th>\n",
       "      <td>0xd987</td>\n",
       "      <td>KOCRES16DEL01</td>\n",
       "      <td>21.0</td>\n",
       "      <td>4.7</td>\n",
       "      <td>10.003064</td>\n",
       "      <td>76.307589</td>\n",
       "      <td>10.043064</td>\n",
       "      <td>76.347589</td>\n",
       "      <td>13-02-2022</td>\n",
       "      <td>Stormy</td>\n",
       "      <td>High</td>\n",
       "      <td>1</td>\n",
       "      <td>Meal</td>\n",
       "      <td>motorcycle</td>\n",
       "      <td>1.0</td>\n",
       "      <td>No</td>\n",
       "      <td>Metropolitian</td>\n",
       "      <td>23</td>\n",
       "      <td>0.50</td>\n",
       "    </tr>\n",
       "    <tr>\n",
       "      <th>2</th>\n",
       "      <td>0x2784</td>\n",
       "      <td>PUNERES13DEL03</td>\n",
       "      <td>23.0</td>\n",
       "      <td>4.7</td>\n",
       "      <td>18.562450</td>\n",
       "      <td>73.916619</td>\n",
       "      <td>18.652450</td>\n",
       "      <td>74.006619</td>\n",
       "      <td>04-03-2022</td>\n",
       "      <td>Sandstorms</td>\n",
       "      <td>Medium</td>\n",
       "      <td>1</td>\n",
       "      <td>Drinks</td>\n",
       "      <td>scooter</td>\n",
       "      <td>1.0</td>\n",
       "      <td>No</td>\n",
       "      <td>Metropolitian</td>\n",
       "      <td>21</td>\n",
       "      <td>0.10</td>\n",
       "    </tr>\n",
       "    <tr>\n",
       "      <th>3</th>\n",
       "      <td>0xc8b6</td>\n",
       "      <td>LUDHRES15DEL02</td>\n",
       "      <td>34.0</td>\n",
       "      <td>4.3</td>\n",
       "      <td>30.899584</td>\n",
       "      <td>75.809346</td>\n",
       "      <td>30.919584</td>\n",
       "      <td>75.829346</td>\n",
       "      <td>13-02-2022</td>\n",
       "      <td>Sandstorms</td>\n",
       "      <td>Low</td>\n",
       "      <td>0</td>\n",
       "      <td>Buffet</td>\n",
       "      <td>motorcycle</td>\n",
       "      <td>0.0</td>\n",
       "      <td>No</td>\n",
       "      <td>Metropolitian</td>\n",
       "      <td>20</td>\n",
       "      <td>0.10</td>\n",
       "    </tr>\n",
       "    <tr>\n",
       "      <th>4</th>\n",
       "      <td>0xdb64</td>\n",
       "      <td>KNPRES14DEL02</td>\n",
       "      <td>24.0</td>\n",
       "      <td>4.7</td>\n",
       "      <td>26.463504</td>\n",
       "      <td>80.372929</td>\n",
       "      <td>26.593504</td>\n",
       "      <td>80.502929</td>\n",
       "      <td>14-02-2022</td>\n",
       "      <td>Fog</td>\n",
       "      <td>Jam</td>\n",
       "      <td>1</td>\n",
       "      <td>Snack</td>\n",
       "      <td>scooter</td>\n",
       "      <td>1.0</td>\n",
       "      <td>No</td>\n",
       "      <td>Metropolitian</td>\n",
       "      <td>41</td>\n",
       "      <td>0.55</td>\n",
       "    </tr>\n",
       "  </tbody>\n",
       "</table>\n",
       "</div>"
      ],
      "text/plain": [
       "       ID Delivery_person_ID  Delivery_person_Age  Delivery_person_Ratings   \n",
       "0  0xcdcd      DEHRES17DEL01                 36.0                      4.2  \\\n",
       "1  0xd987      KOCRES16DEL01                 21.0                      4.7   \n",
       "2  0x2784     PUNERES13DEL03                 23.0                      4.7   \n",
       "3  0xc8b6     LUDHRES15DEL02                 34.0                      4.3   \n",
       "4  0xdb64      KNPRES14DEL02                 24.0                      4.7   \n",
       "\n",
       "   Restaurant_latitude  Restaurant_longitude  Delivery_location_latitude   \n",
       "0            30.327968             78.046106                   30.397968  \\\n",
       "1            10.003064             76.307589                   10.043064   \n",
       "2            18.562450             73.916619                   18.652450   \n",
       "3            30.899584             75.809346                   30.919584   \n",
       "4            26.463504             80.372929                   26.593504   \n",
       "\n",
       "   Delivery_location_longitude  Order_Date Weather_conditions   \n",
       "0                    78.116106  12-02-2022                Fog  \\\n",
       "1                    76.347589  13-02-2022             Stormy   \n",
       "2                    74.006619  04-03-2022         Sandstorms   \n",
       "3                    75.829346  13-02-2022         Sandstorms   \n",
       "4                    80.502929  14-02-2022                Fog   \n",
       "\n",
       "  Road_traffic_density  Vehicle_condition Type_of_order Type_of_vehicle   \n",
       "0                  Jam                  2         Snack      motorcycle  \\\n",
       "1                 High                  1          Meal      motorcycle   \n",
       "2               Medium                  1        Drinks         scooter   \n",
       "3                  Low                  0        Buffet      motorcycle   \n",
       "4                  Jam                  1         Snack         scooter   \n",
       "\n",
       "   multiple_deliveries Festival           City  Time_taken_min   \n",
       "0                  3.0       No  Metropolitian              46  \\\n",
       "1                  1.0       No  Metropolitian              23   \n",
       "2                  1.0       No  Metropolitian              21   \n",
       "3                  0.0       No  Metropolitian              20   \n",
       "4                  1.0       No  Metropolitian              41   \n",
       "\n",
       "   time_before_pick  \n",
       "0              0.55  \n",
       "1              0.50  \n",
       "2              0.10  \n",
       "3              0.10  \n",
       "4              0.55  "
      ]
     },
     "execution_count": 217,
     "metadata": {},
     "output_type": "execute_result"
    }
   ],
   "source": [
    "data['Time_Order_picked']=df1\n",
    "data['Time_Orderd']=df\n",
    "data['time_before_pick']=data['Time_Order_picked']-data['Time_Orderd']\n",
    "data.drop(columns=['Time_Orderd','Time_Order_picked'],axis=1,inplace=True)\n",
    "data.head()"
   ]
  },
  {
   "attachments": {},
   "cell_type": "markdown",
   "metadata": {},
   "source": [
    "#Distance Calculation\n",
    "\n",
    "#Restaurant_latitude              \n",
    "#Restaurant_longitude             \n",
    "#Delivery_location_latitude        \n",
    "#Delivery_location_longitude      \n",
    "\n",
    "Find the value of the latitude in radians:\n",
    "Value of Latitude in Radians, lat = Latitude / (180/pi) OR\n",
    "Value of Latitude in Radians, lat = Latitude / 57.29577951\n",
    "Find the value of longitude in radians:\n",
    "Value of Longitude in Radians, long = Longitude / (180/pi) OR\n",
    "Value of Longitude in Radians, long = Longitude / 57.29577951\n",
    "\n",
    "Distance, d = 3963.0 * arccos[(sin(lat1) * sin(lat2)) + cos(lat1) * cos(lat2) * cos(long2 – long1)]"
   ]
  },
  {
   "cell_type": "code",
   "execution_count": 218,
   "metadata": {},
   "outputs": [],
   "source": [
    "data['Restaurant_longitude']=data['Restaurant_longitude'].astype(float)\n",
    "data['Delivery_location_longitude']=data['Delivery_location_longitude']\n",
    "data['Restaurant_latitude']=data['Restaurant_latitude'].astype(float)\n",
    "data['Delivery_location_latitude']=data['Delivery_location_latitude'].astype(float)\n",
    "\n"
   ]
  },
  {
   "cell_type": "code",
   "execution_count": 219,
   "metadata": {},
   "outputs": [],
   "source": [
    "import pandas as pd\n",
    "import math\n",
    "def distance(lat1,lon1, lat2,lon2):\n",
    "    # Radius of the Earth in kilometers\n",
    "    radius = 6371\n",
    "\n",
    "    # Convert latitude and longitude to radians\n",
    "    lat1, lon1, lat2, lon2 = map(math.radians, [lat1,lon1,lat2,lon2])\n",
    "\n",
    "    # Calculate the differences between the latitudes and longitudes\n",
    "    dlat = lat2 - lat1\n",
    "    dlon = lon2 - lon1\n",
    "\n",
    "    # Calculate the Haversine formula\n",
    "    a = math.sin(dlat/2)**2 + math.cos(lat1) * math.cos(lat2) * math.sin(dlon/2)**2\n",
    "    c = 2 * math.atan2(math.sqrt(a), math.sqrt(1-a))\n",
    "    distance = radius * c\n",
    "\n",
    "    return distance\n"
   ]
  },
  {
   "cell_type": "code",
   "execution_count": 220,
   "metadata": {},
   "outputs": [],
   "source": [
    "dv = data.apply(lambda row:distance(row['Restaurant_latitude'],row['Restaurant_longitude'],row['Delivery_location_latitude'],row['Delivery_location_longitude']),axis=1)"
   ]
  },
  {
   "cell_type": "code",
   "execution_count": 223,
   "metadata": {},
   "outputs": [],
   "source": [
    "df['distance']=pd.DataFrame(dv)"
   ]
  },
  {
   "cell_type": "code",
   "execution_count": 224,
   "metadata": {},
   "outputs": [
    {
     "data": {
      "text/html": [
       "<div>\n",
       "<style scoped>\n",
       "    .dataframe tbody tr th:only-of-type {\n",
       "        vertical-align: middle;\n",
       "    }\n",
       "\n",
       "    .dataframe tbody tr th {\n",
       "        vertical-align: top;\n",
       "    }\n",
       "\n",
       "    .dataframe thead th {\n",
       "        text-align: right;\n",
       "    }\n",
       "</style>\n",
       "<table border=\"1\" class=\"dataframe\">\n",
       "  <thead>\n",
       "    <tr style=\"text-align: right;\">\n",
       "      <th></th>\n",
       "      <th>ID</th>\n",
       "      <th>Delivery_person_ID</th>\n",
       "      <th>Delivery_person_Age</th>\n",
       "      <th>Delivery_person_Ratings</th>\n",
       "      <th>Order_Date</th>\n",
       "      <th>Weather_conditions</th>\n",
       "      <th>Road_traffic_density</th>\n",
       "      <th>Vehicle_condition</th>\n",
       "      <th>Type_of_order</th>\n",
       "      <th>Type_of_vehicle</th>\n",
       "      <th>multiple_deliveries</th>\n",
       "      <th>Festival</th>\n",
       "      <th>City</th>\n",
       "      <th>Time_taken_min</th>\n",
       "      <th>time_before_pick</th>\n",
       "      <th>distance</th>\n",
       "    </tr>\n",
       "  </thead>\n",
       "  <tbody>\n",
       "    <tr>\n",
       "      <th>0</th>\n",
       "      <td>0xcdcd</td>\n",
       "      <td>DEHRES17DEL01</td>\n",
       "      <td>36.0</td>\n",
       "      <td>4.2</td>\n",
       "      <td>12-02-2022</td>\n",
       "      <td>Fog</td>\n",
       "      <td>Jam</td>\n",
       "      <td>2</td>\n",
       "      <td>Snack</td>\n",
       "      <td>motorcycle</td>\n",
       "      <td>3.0</td>\n",
       "      <td>No</td>\n",
       "      <td>Metropolitian</td>\n",
       "      <td>46</td>\n",
       "      <td>0.55</td>\n",
       "      <td>10.280582</td>\n",
       "    </tr>\n",
       "    <tr>\n",
       "      <th>1</th>\n",
       "      <td>0xd987</td>\n",
       "      <td>KOCRES16DEL01</td>\n",
       "      <td>21.0</td>\n",
       "      <td>4.7</td>\n",
       "      <td>13-02-2022</td>\n",
       "      <td>Stormy</td>\n",
       "      <td>High</td>\n",
       "      <td>1</td>\n",
       "      <td>Meal</td>\n",
       "      <td>motorcycle</td>\n",
       "      <td>1.0</td>\n",
       "      <td>No</td>\n",
       "      <td>Metropolitian</td>\n",
       "      <td>23</td>\n",
       "      <td>0.50</td>\n",
       "      <td>6.242319</td>\n",
       "    </tr>\n",
       "    <tr>\n",
       "      <th>2</th>\n",
       "      <td>0x2784</td>\n",
       "      <td>PUNERES13DEL03</td>\n",
       "      <td>23.0</td>\n",
       "      <td>4.7</td>\n",
       "      <td>04-03-2022</td>\n",
       "      <td>Sandstorms</td>\n",
       "      <td>Medium</td>\n",
       "      <td>1</td>\n",
       "      <td>Drinks</td>\n",
       "      <td>scooter</td>\n",
       "      <td>1.0</td>\n",
       "      <td>No</td>\n",
       "      <td>Metropolitian</td>\n",
       "      <td>21</td>\n",
       "      <td>0.10</td>\n",
       "      <td>13.787860</td>\n",
       "    </tr>\n",
       "    <tr>\n",
       "      <th>3</th>\n",
       "      <td>0xc8b6</td>\n",
       "      <td>LUDHRES15DEL02</td>\n",
       "      <td>34.0</td>\n",
       "      <td>4.3</td>\n",
       "      <td>13-02-2022</td>\n",
       "      <td>Sandstorms</td>\n",
       "      <td>Low</td>\n",
       "      <td>0</td>\n",
       "      <td>Buffet</td>\n",
       "      <td>motorcycle</td>\n",
       "      <td>0.0</td>\n",
       "      <td>No</td>\n",
       "      <td>Metropolitian</td>\n",
       "      <td>20</td>\n",
       "      <td>0.10</td>\n",
       "      <td>2.930258</td>\n",
       "    </tr>\n",
       "    <tr>\n",
       "      <th>4</th>\n",
       "      <td>0xdb64</td>\n",
       "      <td>KNPRES14DEL02</td>\n",
       "      <td>24.0</td>\n",
       "      <td>4.7</td>\n",
       "      <td>14-02-2022</td>\n",
       "      <td>Fog</td>\n",
       "      <td>Jam</td>\n",
       "      <td>1</td>\n",
       "      <td>Snack</td>\n",
       "      <td>scooter</td>\n",
       "      <td>1.0</td>\n",
       "      <td>No</td>\n",
       "      <td>Metropolitian</td>\n",
       "      <td>41</td>\n",
       "      <td>0.55</td>\n",
       "      <td>19.396618</td>\n",
       "    </tr>\n",
       "  </tbody>\n",
       "</table>\n",
       "</div>"
      ],
      "text/plain": [
       "       ID Delivery_person_ID  Delivery_person_Age  Delivery_person_Ratings   \n",
       "0  0xcdcd      DEHRES17DEL01                 36.0                      4.2  \\\n",
       "1  0xd987      KOCRES16DEL01                 21.0                      4.7   \n",
       "2  0x2784     PUNERES13DEL03                 23.0                      4.7   \n",
       "3  0xc8b6     LUDHRES15DEL02                 34.0                      4.3   \n",
       "4  0xdb64      KNPRES14DEL02                 24.0                      4.7   \n",
       "\n",
       "   Order_Date Weather_conditions Road_traffic_density  Vehicle_condition   \n",
       "0  12-02-2022                Fog                  Jam                  2  \\\n",
       "1  13-02-2022             Stormy                 High                  1   \n",
       "2  04-03-2022         Sandstorms               Medium                  1   \n",
       "3  13-02-2022         Sandstorms                  Low                  0   \n",
       "4  14-02-2022                Fog                  Jam                  1   \n",
       "\n",
       "  Type_of_order Type_of_vehicle  multiple_deliveries Festival           City   \n",
       "0         Snack      motorcycle                  3.0       No  Metropolitian  \\\n",
       "1          Meal      motorcycle                  1.0       No  Metropolitian   \n",
       "2        Drinks         scooter                  1.0       No  Metropolitian   \n",
       "3        Buffet      motorcycle                  0.0       No  Metropolitian   \n",
       "4         Snack         scooter                  1.0       No  Metropolitian   \n",
       "\n",
       "   Time_taken_min  time_before_pick   distance  \n",
       "0              46              0.55  10.280582  \n",
       "1              23              0.50   6.242319  \n",
       "2              21              0.10  13.787860  \n",
       "3              20              0.10   2.930258  \n",
       "4              41              0.55  19.396618  "
      ]
     },
     "execution_count": 224,
     "metadata": {},
     "output_type": "execute_result"
    }
   ],
   "source": [
    "#merging this distance with the main dataframe and dropping the latititudes and longitudes.\n",
    "\n",
    "data_copy=data.copy()\n",
    "data_copy['distance']=df['distance']\n",
    "data_copy.drop(columns=['Restaurant_latitude','Restaurant_longitude','Delivery_location_latitude','Delivery_location_longitude'],axis=1,inplace=True)\n",
    "data_copy.head()"
   ]
  },
  {
   "cell_type": "code",
   "execution_count": 225,
   "metadata": {},
   "outputs": [],
   "source": [
    "#converting order date to date time\n",
    "data_copy['Order_Date']=pd.to_datetime(data_copy['Order_Date'],format='%d-%m-%Y')"
   ]
  },
  {
   "cell_type": "code",
   "execution_count": 226,
   "metadata": {},
   "outputs": [
    {
     "data": {
      "text/plain": [
       "ID                            0\n",
       "Delivery_person_ID            0\n",
       "Delivery_person_Age        1854\n",
       "Delivery_person_Ratings    1908\n",
       "Order_Date                    0\n",
       "Weather_conditions          616\n",
       "Road_traffic_density        601\n",
       "Vehicle_condition             0\n",
       "Type_of_order                 0\n",
       "Type_of_vehicle               0\n",
       "multiple_deliveries         993\n",
       "Festival                    228\n",
       "City                       1200\n",
       "Time_taken_min                0\n",
       "time_before_pick              0\n",
       "distance                      0\n",
       "dtype: int64"
      ]
     },
     "execution_count": 226,
     "metadata": {},
     "output_type": "execute_result"
    }
   ],
   "source": [
    "#fill the nan values and check for outliers:\n",
    "data_copy.isna().sum()"
   ]
  },
  {
   "cell_type": "code",
   "execution_count": 227,
   "metadata": {},
   "outputs": [],
   "source": [
    "data_copy['Delivery_person_Age']=data_copy['Delivery_person_Age'].fillna(data_copy['Delivery_person_Age'].median())\n",
    "data_copy['Delivery_person_Ratings']=data_copy['Delivery_person_Ratings'].fillna(data_copy['Delivery_person_Ratings'].median())"
   ]
  },
  {
   "attachments": {},
   "cell_type": "markdown",
   "metadata": {},
   "source": [
    "WE will check specific params for converting the nan type values in categorical datasets. As there may be indirect dependencies on each other."
   ]
  },
  {
   "cell_type": "code",
   "execution_count": 228,
   "metadata": {},
   "outputs": [
    {
     "name": "stdout",
     "output_type": "stream",
     "text": [
      "City\n",
      "Metropolitian    464\n",
      "Urban            115\n",
      "Semi-Urban         1\n",
      "Name: count, dtype: int64\n",
      "Festival\n",
      "No     581\n",
      "Yes     17\n",
      "Name: count, dtype: int64\n"
     ]
    }
   ],
   "source": [
    "#Weather_conditions \n",
    "#Road_traffic_density        \n",
    "#multiple_deliveries\n",
    "#Festival  \n",
    "#City    \n",
    "data_traffic=data_copy['Road_traffic_density'].fillna('no_value',inplace=True)\n",
    "data_traffic=data_copy[data_copy['Road_traffic_density']=='no_value']\n",
    "print(data_traffic['City'].value_counts())\n",
    "print(data_traffic['Festival'].value_counts())\n"
   ]
  },
  {
   "cell_type": "code",
   "execution_count": 229,
   "metadata": {},
   "outputs": [
    {
     "name": "stdout",
     "output_type": "stream",
     "text": [
      "Road_traffic_density\n",
      "Jam         11087\n",
      "Low         10852\n",
      "Medium       8320\n",
      "High         3364\n",
      "no_value      464\n",
      "Name: count, dtype: int64\n",
      "Festival\n",
      "No     33245\n",
      "Yes      731\n",
      "Name: count, dtype: int64\n"
     ]
    }
   ],
   "source": [
    "data_city=data_copy[data_copy['City']=='Metropolitian']\n",
    "print(data_city['Road_traffic_density'].value_counts())\n",
    "print(data_city['Festival'].value_counts())"
   ]
  },
  {
   "cell_type": "code",
   "execution_count": 230,
   "metadata": {},
   "outputs": [
    {
     "name": "stdout",
     "output_type": "stream",
     "text": [
      "Road_traffic_density\n",
      "Low         15298\n",
      "Jam         13469\n",
      "Medium      10776\n",
      "High         4336\n",
      "no_value      581\n",
      "Name: count, dtype: int64\n",
      "City\n",
      "Metropolitian    33245\n",
      "Urban             9923\n",
      "Semi-Urban         123\n",
      "Name: count, dtype: int64\n"
     ]
    }
   ],
   "source": [
    "data_fest=data_copy[data_copy['Festival']=='No']\n",
    "print(data_fest['Road_traffic_density'].value_counts())\n",
    "print(data_fest['City'].value_counts())"
   ]
  },
  {
   "attachments": {},
   "cell_type": "markdown",
   "metadata": {},
   "source": [
    "1. From aove we can come to some observation that when the 'City'  is Semi-Urban and 'Festival' is No, we can assume that the nan/ no-value type data can be converted into mode value which is 'Low'.The same goes for 'Urban'.\n",
    "2. The same observation we find for 'City' and hence the nan value of 'Road_traffic_Density'goes to 'Low'."
   ]
  },
  {
   "cell_type": "code",
   "execution_count": 231,
   "metadata": {},
   "outputs": [],
   "source": [
    "data_copy['Road_traffic_density']=np.where(data_copy['Road_traffic_density']=='no_value','Low',data_copy['Road_traffic_density'])"
   ]
  },
  {
   "cell_type": "code",
   "execution_count": 232,
   "metadata": {},
   "outputs": [],
   "source": [
    "data_copy['City'].fillna('no_v',inplace=True)\n",
    "data_cit=data_copy[data_copy['City']=='no_v']"
   ]
  },
  {
   "cell_type": "code",
   "execution_count": 233,
   "metadata": {},
   "outputs": [
    {
     "name": "stdout",
     "output_type": "stream",
     "text": [
      "Road_traffic_density\n",
      "Low       553\n",
      "Jam       291\n",
      "Medium    258\n",
      "High       98\n",
      "Name: count, dtype: int64\n",
      "Festival\n",
      "No     1169\n",
      "Yes      13\n",
      "Name: count, dtype: int64\n"
     ]
    }
   ],
   "source": [
    "print(data_cit['Road_traffic_density'].value_counts())\n",
    "print(data_cit['Festival'].value_counts())"
   ]
  },
  {
   "cell_type": "code",
   "execution_count": 234,
   "metadata": {},
   "outputs": [
    {
     "data": {
      "text/plain": [
       "City\n",
       "Metropolitian    11316\n",
       "Urban             4207\n",
       "no_v               553\n",
       "Semi-Urban           1\n",
       "Name: count, dtype: int64"
      ]
     },
     "execution_count": 234,
     "metadata": {},
     "output_type": "execute_result"
    }
   ],
   "source": [
    "traffic_city=data_copy[data_copy['Road_traffic_density']=='Low']\n",
    "traffic_city['City'].value_counts()"
   ]
  },
  {
   "attachments": {},
   "cell_type": "markdown",
   "metadata": {},
   "source": [
    "1. From above combinatons it is evidant that for no_v or nan type values we can assume City as 'Metropolitian'. As because for such nan values cases we gt 'Road_traffic_denity'=='Low', which corresponds to the main dataframe and has maximum of 'Metropolitian' type city.\n",
    "2. Festival dataset has high amount of 'No' data and we can take the mode value of 'No'. This will not affect the dataset."
   ]
  },
  {
   "cell_type": "code",
   "execution_count": 235,
   "metadata": {},
   "outputs": [],
   "source": [
    "data_copy['City']=np.where(data_copy['City']=='no_v','Metropolitian',data_copy['City'])\n",
    "\n",
    "data_copy['Festival'].fillna('No',inplace=True)"
   ]
  },
  {
   "cell_type": "code",
   "execution_count": 236,
   "metadata": {},
   "outputs": [],
   "source": [
    "data_copy['multiple_deliveries']=data_copy['multiple_deliveries'].fillna(data_copy['multiple_deliveries'].mode()[0])\n",
    "data_copy['Weather_conditions']=data_copy['Weather_conditions'].fillna(data_copy['Weather_conditions'].mode()[0])"
   ]
  },
  {
   "cell_type": "code",
   "execution_count": 237,
   "metadata": {},
   "outputs": [
    {
     "data": {
      "text/plain": [
       "ID                         0\n",
       "Delivery_person_ID         0\n",
       "Delivery_person_Age        0\n",
       "Delivery_person_Ratings    0\n",
       "Order_Date                 0\n",
       "Weather_conditions         0\n",
       "Road_traffic_density       0\n",
       "Vehicle_condition          0\n",
       "Type_of_order              0\n",
       "Type_of_vehicle            0\n",
       "multiple_deliveries        0\n",
       "Festival                   0\n",
       "City                       0\n",
       "Time_taken_min             0\n",
       "time_before_pick           0\n",
       "distance                   0\n",
       "dtype: int64"
      ]
     },
     "execution_count": 237,
     "metadata": {},
     "output_type": "execute_result"
    }
   ],
   "source": [
    "data_copy.isna().sum()"
   ]
  },
  {
   "cell_type": "code",
   "execution_count": 238,
   "metadata": {},
   "outputs": [
    {
     "name": "stdout",
     "output_type": "stream",
     "text": [
      "<class 'pandas.core.frame.DataFrame'>\n",
      "RangeIndex: 45584 entries, 0 to 45583\n",
      "Data columns (total 16 columns):\n",
      " #   Column                   Non-Null Count  Dtype         \n",
      "---  ------                   --------------  -----         \n",
      " 0   ID                       45584 non-null  object        \n",
      " 1   Delivery_person_ID       45584 non-null  object        \n",
      " 2   Delivery_person_Age      45584 non-null  float64       \n",
      " 3   Delivery_person_Ratings  45584 non-null  float64       \n",
      " 4   Order_Date               45584 non-null  datetime64[ns]\n",
      " 5   Weather_conditions       45584 non-null  object        \n",
      " 6   Road_traffic_density     45584 non-null  object        \n",
      " 7   Vehicle_condition        45584 non-null  int64         \n",
      " 8   Type_of_order            45584 non-null  object        \n",
      " 9   Type_of_vehicle          45584 non-null  object        \n",
      " 10  multiple_deliveries      45584 non-null  float64       \n",
      " 11  Festival                 45584 non-null  object        \n",
      " 12  City                     45584 non-null  object        \n",
      " 13  Time_taken_min           45584 non-null  int64         \n",
      " 14  time_before_pick         45584 non-null  float64       \n",
      " 15  distance                 45584 non-null  float64       \n",
      "dtypes: datetime64[ns](1), float64(5), int64(2), object(8)\n",
      "memory usage: 5.6+ MB\n"
     ]
    }
   ],
   "source": [
    "data_copy.info()"
   ]
  },
  {
   "cell_type": "code",
   "execution_count": 239,
   "metadata": {},
   "outputs": [],
   "source": [
    "data1=data_copy.copy()\n",
    "data1.drop(columns=['Time_taken_min'],axis=1,inplace=True)"
   ]
  },
  {
   "cell_type": "code",
   "execution_count": 240,
   "metadata": {},
   "outputs": [
    {
     "name": "stdout",
     "output_type": "stream",
     "text": [
      "numerical values are: ['Delivery_person_Age', 'Delivery_person_Ratings', 'Order_Date', 'Vehicle_condition', 'multiple_deliveries', 'time_before_pick', 'distance']\n",
      "================================\n",
      "categorical values are: ['ID', 'Delivery_person_ID', 'Weather_conditions', 'Road_traffic_density', 'Type_of_order', 'Type_of_vehicle', 'Festival', 'City']\n",
      "================================\n",
      "target column is: 'Time_taken_min'\n"
     ]
    }
   ],
   "source": [
    "data_num=[feature for feature in data1.columns if data1[feature].dtype!='O']\n",
    "data_cat=[feature for feature in data1.columns if data1[feature].dtype=='O']\n",
    "data_target=data_copy['Time_taken_min']\n",
    "print(f'numerical values are: {data_num}')\n",
    "print('='*32)\n",
    "print(f'categorical values are: {data_cat}')\n",
    "print(\"=\"*32)\n",
    "print(\"target column is: 'Time_taken_min'\")\n"
   ]
  },
  {
   "cell_type": "code",
   "execution_count": 241,
   "metadata": {},
   "outputs": [
    {
     "data": {
      "text/plain": [
       "<Axes: >"
      ]
     },
     "execution_count": 241,
     "metadata": {},
     "output_type": "execute_result"
    },
    {
     "data": {
      "image/png": "[encoded data removed]",
      "text/plain": [
       "<Figure size 640x480 with 2 Axes>"
      ]
     },
     "metadata": {},
     "output_type": "display_data"
    }
   ],
   "source": [
    "corr=data_copy[data_num].corr()\n",
    "sns.heatmap(corr)"
   ]
  },
  {
   "cell_type": "code",
   "execution_count": 242,
   "metadata": {},
   "outputs": [
    {
     "data": {
      "text/html": [
       "<div>\n",
       "<style scoped>\n",
       "    .dataframe tbody tr th:only-of-type {\n",
       "        vertical-align: middle;\n",
       "    }\n",
       "\n",
       "    .dataframe tbody tr th {\n",
       "        vertical-align: top;\n",
       "    }\n",
       "\n",
       "    .dataframe thead th {\n",
       "        text-align: right;\n",
       "    }\n",
       "</style>\n",
       "<table border=\"1\" class=\"dataframe\">\n",
       "  <thead>\n",
       "    <tr style=\"text-align: right;\">\n",
       "      <th></th>\n",
       "      <th>Delivery_person_Age</th>\n",
       "      <th>Delivery_person_Ratings</th>\n",
       "      <th>Order_Date</th>\n",
       "      <th>Vehicle_condition</th>\n",
       "      <th>multiple_deliveries</th>\n",
       "      <th>time_before_pick</th>\n",
       "      <th>distance</th>\n",
       "    </tr>\n",
       "  </thead>\n",
       "  <tbody>\n",
       "    <tr>\n",
       "      <th>Delivery_person_Age</th>\n",
       "      <td>1.000000</td>\n",
       "      <td>-0.067272</td>\n",
       "      <td>-0.005133</td>\n",
       "      <td>0.004649</td>\n",
       "      <td>0.111325</td>\n",
       "      <td>0.009303</td>\n",
       "      <td>0.023552</td>\n",
       "    </tr>\n",
       "    <tr>\n",
       "      <th>Delivery_person_Ratings</th>\n",
       "      <td>-0.067272</td>\n",
       "      <td>1.000000</td>\n",
       "      <td>-0.011901</td>\n",
       "      <td>0.037397</td>\n",
       "      <td>-0.112626</td>\n",
       "      <td>0.006471</td>\n",
       "      <td>0.010044</td>\n",
       "    </tr>\n",
       "    <tr>\n",
       "      <th>Order_Date</th>\n",
       "      <td>-0.005133</td>\n",
       "      <td>-0.011901</td>\n",
       "      <td>1.000000</td>\n",
       "      <td>0.003155</td>\n",
       "      <td>-0.002816</td>\n",
       "      <td>0.000179</td>\n",
       "      <td>-0.034711</td>\n",
       "    </tr>\n",
       "    <tr>\n",
       "      <th>Vehicle_condition</th>\n",
       "      <td>0.004649</td>\n",
       "      <td>0.037397</td>\n",
       "      <td>0.003155</td>\n",
       "      <td>1.000000</td>\n",
       "      <td>-0.095547</td>\n",
       "      <td>0.054027</td>\n",
       "      <td>0.092373</td>\n",
       "    </tr>\n",
       "    <tr>\n",
       "      <th>multiple_deliveries</th>\n",
       "      <td>0.111325</td>\n",
       "      <td>-0.112626</td>\n",
       "      <td>-0.002816</td>\n",
       "      <td>-0.095547</td>\n",
       "      <td>1.000000</td>\n",
       "      <td>0.011789</td>\n",
       "      <td>0.000844</td>\n",
       "    </tr>\n",
       "    <tr>\n",
       "      <th>time_before_pick</th>\n",
       "      <td>0.009303</td>\n",
       "      <td>0.006471</td>\n",
       "      <td>0.000179</td>\n",
       "      <td>0.054027</td>\n",
       "      <td>0.011789</td>\n",
       "      <td>1.000000</td>\n",
       "      <td>0.124358</td>\n",
       "    </tr>\n",
       "    <tr>\n",
       "      <th>distance</th>\n",
       "      <td>0.023552</td>\n",
       "      <td>0.010044</td>\n",
       "      <td>-0.034711</td>\n",
       "      <td>0.092373</td>\n",
       "      <td>0.000844</td>\n",
       "      <td>0.124358</td>\n",
       "      <td>1.000000</td>\n",
       "    </tr>\n",
       "  </tbody>\n",
       "</table>\n",
       "</div>"
      ],
      "text/plain": [
       "                         Delivery_person_Age  Delivery_person_Ratings   \n",
       "Delivery_person_Age                 1.000000                -0.067272  \\\n",
       "Delivery_person_Ratings            -0.067272                 1.000000   \n",
       "Order_Date                         -0.005133                -0.011901   \n",
       "Vehicle_condition                   0.004649                 0.037397   \n",
       "multiple_deliveries                 0.111325                -0.112626   \n",
       "time_before_pick                    0.009303                 0.006471   \n",
       "distance                            0.023552                 0.010044   \n",
       "\n",
       "                         Order_Date  Vehicle_condition  multiple_deliveries   \n",
       "Delivery_person_Age       -0.005133           0.004649             0.111325  \\\n",
       "Delivery_person_Ratings   -0.011901           0.037397            -0.112626   \n",
       "Order_Date                 1.000000           0.003155            -0.002816   \n",
       "Vehicle_condition          0.003155           1.000000            -0.095547   \n",
       "multiple_deliveries       -0.002816          -0.095547             1.000000   \n",
       "time_before_pick           0.000179           0.054027             0.011789   \n",
       "distance                  -0.034711           0.092373             0.000844   \n",
       "\n",
       "                         time_before_pick  distance  \n",
       "Delivery_person_Age              0.009303  0.023552  \n",
       "Delivery_person_Ratings          0.006471  0.010044  \n",
       "Order_Date                       0.000179 -0.034711  \n",
       "Vehicle_condition                0.054027  0.092373  \n",
       "multiple_deliveries              0.011789  0.000844  \n",
       "time_before_pick                 1.000000  0.124358  \n",
       "distance                         0.124358  1.000000  "
      ]
     },
     "execution_count": 242,
     "metadata": {},
     "output_type": "execute_result"
    }
   ],
   "source": [
    "corr"
   ]
  },
  {
   "cell_type": "code",
   "execution_count": 243,
   "metadata": {},
   "outputs": [
    {
     "name": "stdout",
     "output_type": "stream",
     "text": [
      "                   feature        vif\n",
      "0      Delivery_person_Age  24.431766\n",
      "1  Delivery_person_Ratings  25.171674\n",
      "2        Vehicle_condition   2.531393\n",
      "3      multiple_deliveries   2.774024\n",
      "4         time_before_pick   1.019747\n",
      "5                 distance   1.032027\n"
     ]
    }
   ],
   "source": [
    "from statsmodels.stats.outliers_influence import variance_inflation_factor\n",
    "X=data_copy[data_num]\n",
    "X=X.drop(columns=['Order_Date'],axis=1)\n",
    "vif_data = pd.DataFrame()\n",
    "vif_data[\"feature\"] = X.columns\n",
    "vif_data['vif'] = [variance_inflation_factor(X.values, i) for i in range(len(X.columns))]\n",
    "print(vif_data)\n",
    "\n"
   ]
  },
  {
   "attachments": {},
   "cell_type": "markdown",
   "metadata": {},
   "source": [
    "From the above we can find the following assumptions:\n",
    "1. No auto-correlation among numerical features\n",
    "2. Little multi collinearity in the features. Only feature variable of Delivery_person_age and rating is high."
   ]
  },
  {
   "cell_type": "code",
   "execution_count": 244,
   "metadata": {},
   "outputs": [
    {
     "data": {
      "text/plain": [
       "<Axes: xlabel='City', ylabel='count'>"
      ]
     },
     "execution_count": 244,
     "metadata": {},
     "output_type": "execute_result"
    },
    {
     "data": {
      "image/png": "[encoded data removed]",
      "text/plain": [
       "<Figure size 640x480 with 1 Axes>"
      ]
     },
     "metadata": {},
     "output_type": "display_data"
    }
   ],
   "source": [
    "sns.countplot(data=data_copy,x='City',hue='multiple_deliveries')"
   ]
  },
  {
   "cell_type": "code",
   "execution_count": 245,
   "metadata": {},
   "outputs": [
    {
     "data": {
      "image/png": "[encoded data removed]",
      "text/plain": [
       "<Figure size 2000x700 with 1 Axes>"
      ]
     },
     "metadata": {},
     "output_type": "display_data"
    }
   ],
   "source": [
    "axs,fig =plt.subplots(1,1,figsize=(20,7))\n",
    "plt.subplot(111)\n",
    "sns.countplot(data=data_copy,x='Time_taken_min',hue='Road_traffic_density')\n",
    "plt.show()"
   ]
  },
  {
   "cell_type": "code",
   "execution_count": 38,
   "metadata": {},
   "outputs": [
    {
     "data": {
      "image/png": "[encoded data removed]",
      "text/plain": [
       "<Figure size 2000x700 with 1 Axes>"
      ]
     },
     "metadata": {},
     "output_type": "display_data"
    }
   ],
   "source": [
    "axs,fig =plt.subplots(1,1,figsize=(20,7))\n",
    "plt.subplot(111)\n",
    "sns.countplot(data=data_copy,x='Time_taken_min',hue='Festival')\n",
    "plt.show()"
   ]
  },
  {
   "cell_type": "code",
   "execution_count": 246,
   "metadata": {},
   "outputs": [
    {
     "data": {
      "image/png": "[encoded data removed]",
      "text/plain": [
       "<Figure size 2000x700 with 1 Axes>"
      ]
     },
     "metadata": {},
     "output_type": "display_data"
    }
   ],
   "source": [
    "axs,fig =plt.subplots(1,1,figsize=(20,7))\n",
    "plt.subplot(111)\n",
    "sns.countplot(data=data_copy,x='Time_taken_min',hue='Weather_conditions')\n",
    "plt.show()"
   ]
  },
  {
   "cell_type": "code",
   "execution_count": 251,
   "metadata": {},
   "outputs": [],
   "source": [
    "from sklearn.preprocessing import OneHotEncoder\n",
    "enc=OneHotEncoder()\n",
    "enc_data = pd.DataFrame(enc.fit_transform(data_copy[['Weather_conditions', 'Road_traffic_density','Vehicle_condition','Type_of_order','Type_of_vehicle','multiple_deliveries','Festival','City']]).toarray())\n",
    "  "
   ]
  },
  {
   "cell_type": "code",
   "execution_count": 252,
   "metadata": {},
   "outputs": [
    {
     "data": {
      "text/html": [
       "<div>\n",
       "<style scoped>\n",
       "    .dataframe tbody tr th:only-of-type {\n",
       "        vertical-align: middle;\n",
       "    }\n",
       "\n",
       "    .dataframe tbody tr th {\n",
       "        vertical-align: top;\n",
       "    }\n",
       "\n",
       "    .dataframe thead th {\n",
       "        text-align: right;\n",
       "    }\n",
       "</style>\n",
       "<table border=\"1\" class=\"dataframe\">\n",
       "  <thead>\n",
       "    <tr style=\"text-align: right;\">\n",
       "      <th></th>\n",
       "      <th>Weather_conditions_Cloudy</th>\n",
       "      <th>Weather_conditions_Fog</th>\n",
       "      <th>Weather_conditions_Sandstorms</th>\n",
       "      <th>Weather_conditions_Stormy</th>\n",
       "      <th>Weather_conditions_Sunny</th>\n",
       "      <th>Weather_conditions_Windy</th>\n",
       "      <th>Road_traffic_density_High</th>\n",
       "      <th>Road_traffic_density_Jam</th>\n",
       "      <th>Road_traffic_density_Low</th>\n",
       "      <th>Road_traffic_density_Medium</th>\n",
       "      <th>...</th>\n",
       "      <th>Type_of_vehicle_scooter</th>\n",
       "      <th>multiple_deliveries_0.0</th>\n",
       "      <th>multiple_deliveries_1.0</th>\n",
       "      <th>multiple_deliveries_2.0</th>\n",
       "      <th>multiple_deliveries_3.0</th>\n",
       "      <th>Festival_No</th>\n",
       "      <th>Festival_Yes</th>\n",
       "      <th>City_Metropolitian</th>\n",
       "      <th>City_Semi-Urban</th>\n",
       "      <th>City_Urban</th>\n",
       "    </tr>\n",
       "  </thead>\n",
       "  <tbody>\n",
       "    <tr>\n",
       "      <th>0</th>\n",
       "      <td>0.0</td>\n",
       "      <td>1.0</td>\n",
       "      <td>0.0</td>\n",
       "      <td>0.0</td>\n",
       "      <td>0.0</td>\n",
       "      <td>0.0</td>\n",
       "      <td>0.0</td>\n",
       "      <td>1.0</td>\n",
       "      <td>0.0</td>\n",
       "      <td>0.0</td>\n",
       "      <td>...</td>\n",
       "      <td>0.0</td>\n",
       "      <td>0.0</td>\n",
       "      <td>0.0</td>\n",
       "      <td>0.0</td>\n",
       "      <td>1.0</td>\n",
       "      <td>1.0</td>\n",
       "      <td>0.0</td>\n",
       "      <td>1.0</td>\n",
       "      <td>0.0</td>\n",
       "      <td>0.0</td>\n",
       "    </tr>\n",
       "    <tr>\n",
       "      <th>1</th>\n",
       "      <td>0.0</td>\n",
       "      <td>0.0</td>\n",
       "      <td>0.0</td>\n",
       "      <td>1.0</td>\n",
       "      <td>0.0</td>\n",
       "      <td>0.0</td>\n",
       "      <td>1.0</td>\n",
       "      <td>0.0</td>\n",
       "      <td>0.0</td>\n",
       "      <td>0.0</td>\n",
       "      <td>...</td>\n",
       "      <td>0.0</td>\n",
       "      <td>0.0</td>\n",
       "      <td>1.0</td>\n",
       "      <td>0.0</td>\n",
       "      <td>0.0</td>\n",
       "      <td>1.0</td>\n",
       "      <td>0.0</td>\n",
       "      <td>1.0</td>\n",
       "      <td>0.0</td>\n",
       "      <td>0.0</td>\n",
       "    </tr>\n",
       "    <tr>\n",
       "      <th>2</th>\n",
       "      <td>0.0</td>\n",
       "      <td>0.0</td>\n",
       "      <td>1.0</td>\n",
       "      <td>0.0</td>\n",
       "      <td>0.0</td>\n",
       "      <td>0.0</td>\n",
       "      <td>0.0</td>\n",
       "      <td>0.0</td>\n",
       "      <td>0.0</td>\n",
       "      <td>1.0</td>\n",
       "      <td>...</td>\n",
       "      <td>1.0</td>\n",
       "      <td>0.0</td>\n",
       "      <td>1.0</td>\n",
       "      <td>0.0</td>\n",
       "      <td>0.0</td>\n",
       "      <td>1.0</td>\n",
       "      <td>0.0</td>\n",
       "      <td>1.0</td>\n",
       "      <td>0.0</td>\n",
       "      <td>0.0</td>\n",
       "    </tr>\n",
       "    <tr>\n",
       "      <th>3</th>\n",
       "      <td>0.0</td>\n",
       "      <td>0.0</td>\n",
       "      <td>1.0</td>\n",
       "      <td>0.0</td>\n",
       "      <td>0.0</td>\n",
       "      <td>0.0</td>\n",
       "      <td>0.0</td>\n",
       "      <td>0.0</td>\n",
       "      <td>1.0</td>\n",
       "      <td>0.0</td>\n",
       "      <td>...</td>\n",
       "      <td>0.0</td>\n",
       "      <td>1.0</td>\n",
       "      <td>0.0</td>\n",
       "      <td>0.0</td>\n",
       "      <td>0.0</td>\n",
       "      <td>1.0</td>\n",
       "      <td>0.0</td>\n",
       "      <td>1.0</td>\n",
       "      <td>0.0</td>\n",
       "      <td>0.0</td>\n",
       "    </tr>\n",
       "    <tr>\n",
       "      <th>4</th>\n",
       "      <td>0.0</td>\n",
       "      <td>1.0</td>\n",
       "      <td>0.0</td>\n",
       "      <td>0.0</td>\n",
       "      <td>0.0</td>\n",
       "      <td>0.0</td>\n",
       "      <td>0.0</td>\n",
       "      <td>1.0</td>\n",
       "      <td>0.0</td>\n",
       "      <td>0.0</td>\n",
       "      <td>...</td>\n",
       "      <td>1.0</td>\n",
       "      <td>0.0</td>\n",
       "      <td>1.0</td>\n",
       "      <td>0.0</td>\n",
       "      <td>0.0</td>\n",
       "      <td>1.0</td>\n",
       "      <td>0.0</td>\n",
       "      <td>1.0</td>\n",
       "      <td>0.0</td>\n",
       "      <td>0.0</td>\n",
       "    </tr>\n",
       "  </tbody>\n",
       "</table>\n",
       "<p>5 rows × 31 columns</p>\n",
       "</div>"
      ],
      "text/plain": [
       "   Weather_conditions_Cloudy  Weather_conditions_Fog   \n",
       "0                        0.0                     1.0  \\\n",
       "1                        0.0                     0.0   \n",
       "2                        0.0                     0.0   \n",
       "3                        0.0                     0.0   \n",
       "4                        0.0                     1.0   \n",
       "\n",
       "   Weather_conditions_Sandstorms  Weather_conditions_Stormy   \n",
       "0                            0.0                        0.0  \\\n",
       "1                            0.0                        1.0   \n",
       "2                            1.0                        0.0   \n",
       "3                            1.0                        0.0   \n",
       "4                            0.0                        0.0   \n",
       "\n",
       "   Weather_conditions_Sunny  Weather_conditions_Windy   \n",
       "0                       0.0                       0.0  \\\n",
       "1                       0.0                       0.0   \n",
       "2                       0.0                       0.0   \n",
       "3                       0.0                       0.0   \n",
       "4                       0.0                       0.0   \n",
       "\n",
       "   Road_traffic_density_High  Road_traffic_density_Jam   \n",
       "0                        0.0                       1.0  \\\n",
       "1                        1.0                       0.0   \n",
       "2                        0.0                       0.0   \n",
       "3                        0.0                       0.0   \n",
       "4                        0.0                       1.0   \n",
       "\n",
       "   Road_traffic_density_Low  Road_traffic_density_Medium  ...   \n",
       "0                       0.0                          0.0  ...  \\\n",
       "1                       0.0                          0.0  ...   \n",
       "2                       0.0                          1.0  ...   \n",
       "3                       1.0                          0.0  ...   \n",
       "4                       0.0                          0.0  ...   \n",
       "\n",
       "   Type_of_vehicle_scooter  multiple_deliveries_0.0  multiple_deliveries_1.0   \n",
       "0                      0.0                      0.0                      0.0  \\\n",
       "1                      0.0                      0.0                      1.0   \n",
       "2                      1.0                      0.0                      1.0   \n",
       "3                      0.0                      1.0                      0.0   \n",
       "4                      1.0                      0.0                      1.0   \n",
       "\n",
       "   multiple_deliveries_2.0  multiple_deliveries_3.0  Festival_No   \n",
       "0                      0.0                      1.0          1.0  \\\n",
       "1                      0.0                      0.0          1.0   \n",
       "2                      0.0                      0.0          1.0   \n",
       "3                      0.0                      0.0          1.0   \n",
       "4                      0.0                      0.0          1.0   \n",
       "\n",
       "   Festival_Yes  City_Metropolitian  City_Semi-Urban  City_Urban  \n",
       "0           0.0                 1.0              0.0         0.0  \n",
       "1           0.0                 1.0              0.0         0.0  \n",
       "2           0.0                 1.0              0.0         0.0  \n",
       "3           0.0                 1.0              0.0         0.0  \n",
       "4           0.0                 1.0              0.0         0.0  \n",
       "\n",
       "[5 rows x 31 columns]"
      ]
     },
     "execution_count": 252,
     "metadata": {},
     "output_type": "execute_result"
    }
   ],
   "source": [
    "column=['Weather_conditions_Cloudy','Weather_conditions_Fog', 'Weather_conditions_Sandstorms',\n",
    "        'Weather_conditions_Stormy', 'Weather_conditions_Sunny',\n",
    "        'Weather_conditions_Windy', 'Road_traffic_density_High','Road_traffic_density_Jam', 'Road_traffic_density_Low',\n",
    "        'Road_traffic_density_Medium', 'Vehicle_condition_0',\n",
    "        'Vehicle_condition_1', 'Vehicle_condition_2', 'Vehicle_condition_3',\n",
    "        'Type_of_order_Buffet', 'Type_of_order_Drinks', 'Type_of_order_Meal',\n",
    "        'Type_of_order_Snack', 'Type_of_vehicle_bicycle',\n",
    "        'Type_of_vehicle_electric_scooter', 'Type_of_vehicle_motorcycle',\n",
    "        'Type_of_vehicle_scooter', 'multiple_deliveries_0.0',\n",
    "        'multiple_deliveries_1.0', 'multiple_deliveries_2.0',\n",
    "        'multiple_deliveries_3.0', 'Festival_No', 'Festival_Yes',\n",
    "        'City_Metropolitian', 'City_Semi-Urban', 'City_Urban']\n",
    "enc_data.columns=column\n",
    "enc_data.head()"
   ]
  },
  {
   "cell_type": "code",
   "execution_count": 253,
   "metadata": {},
   "outputs": [
    {
     "data": {
      "text/html": [
       "<div>\n",
       "<style scoped>\n",
       "    .dataframe tbody tr th:only-of-type {\n",
       "        vertical-align: middle;\n",
       "    }\n",
       "\n",
       "    .dataframe tbody tr th {\n",
       "        vertical-align: top;\n",
       "    }\n",
       "\n",
       "    .dataframe thead th {\n",
       "        text-align: right;\n",
       "    }\n",
       "</style>\n",
       "<table border=\"1\" class=\"dataframe\">\n",
       "  <thead>\n",
       "    <tr style=\"text-align: right;\">\n",
       "      <th></th>\n",
       "      <th>ID</th>\n",
       "      <th>Delivery_person_ID</th>\n",
       "      <th>Delivery_person_Age</th>\n",
       "      <th>Delivery_person_Ratings</th>\n",
       "      <th>Order_Date</th>\n",
       "      <th>Time_taken_min</th>\n",
       "      <th>time_before_pick</th>\n",
       "      <th>distance</th>\n",
       "      <th>Weather_conditions_Cloudy</th>\n",
       "      <th>Weather_conditions_Fog</th>\n",
       "      <th>...</th>\n",
       "      <th>Type_of_vehicle_scooter</th>\n",
       "      <th>multiple_deliveries_0.0</th>\n",
       "      <th>multiple_deliveries_1.0</th>\n",
       "      <th>multiple_deliveries_2.0</th>\n",
       "      <th>multiple_deliveries_3.0</th>\n",
       "      <th>Festival_No</th>\n",
       "      <th>Festival_Yes</th>\n",
       "      <th>City_Metropolitian</th>\n",
       "      <th>City_Semi-Urban</th>\n",
       "      <th>City_Urban</th>\n",
       "    </tr>\n",
       "  </thead>\n",
       "  <tbody>\n",
       "    <tr>\n",
       "      <th>0</th>\n",
       "      <td>0xcdcd</td>\n",
       "      <td>DEHRES17DEL01</td>\n",
       "      <td>36.0</td>\n",
       "      <td>4.2</td>\n",
       "      <td>2022-02-12</td>\n",
       "      <td>46</td>\n",
       "      <td>0.55</td>\n",
       "      <td>10.280582</td>\n",
       "      <td>0.0</td>\n",
       "      <td>1.0</td>\n",
       "      <td>...</td>\n",
       "      <td>0.0</td>\n",
       "      <td>0.0</td>\n",
       "      <td>0.0</td>\n",
       "      <td>0.0</td>\n",
       "      <td>1.0</td>\n",
       "      <td>1.0</td>\n",
       "      <td>0.0</td>\n",
       "      <td>1.0</td>\n",
       "      <td>0.0</td>\n",
       "      <td>0.0</td>\n",
       "    </tr>\n",
       "    <tr>\n",
       "      <th>1</th>\n",
       "      <td>0xd987</td>\n",
       "      <td>KOCRES16DEL01</td>\n",
       "      <td>21.0</td>\n",
       "      <td>4.7</td>\n",
       "      <td>2022-02-13</td>\n",
       "      <td>23</td>\n",
       "      <td>0.50</td>\n",
       "      <td>6.242319</td>\n",
       "      <td>0.0</td>\n",
       "      <td>0.0</td>\n",
       "      <td>...</td>\n",
       "      <td>0.0</td>\n",
       "      <td>0.0</td>\n",
       "      <td>1.0</td>\n",
       "      <td>0.0</td>\n",
       "      <td>0.0</td>\n",
       "      <td>1.0</td>\n",
       "      <td>0.0</td>\n",
       "      <td>1.0</td>\n",
       "      <td>0.0</td>\n",
       "      <td>0.0</td>\n",
       "    </tr>\n",
       "    <tr>\n",
       "      <th>2</th>\n",
       "      <td>0x2784</td>\n",
       "      <td>PUNERES13DEL03</td>\n",
       "      <td>23.0</td>\n",
       "      <td>4.7</td>\n",
       "      <td>2022-03-04</td>\n",
       "      <td>21</td>\n",
       "      <td>0.10</td>\n",
       "      <td>13.787860</td>\n",
       "      <td>0.0</td>\n",
       "      <td>0.0</td>\n",
       "      <td>...</td>\n",
       "      <td>1.0</td>\n",
       "      <td>0.0</td>\n",
       "      <td>1.0</td>\n",
       "      <td>0.0</td>\n",
       "      <td>0.0</td>\n",
       "      <td>1.0</td>\n",
       "      <td>0.0</td>\n",
       "      <td>1.0</td>\n",
       "      <td>0.0</td>\n",
       "      <td>0.0</td>\n",
       "    </tr>\n",
       "    <tr>\n",
       "      <th>3</th>\n",
       "      <td>0xc8b6</td>\n",
       "      <td>LUDHRES15DEL02</td>\n",
       "      <td>34.0</td>\n",
       "      <td>4.3</td>\n",
       "      <td>2022-02-13</td>\n",
       "      <td>20</td>\n",
       "      <td>0.10</td>\n",
       "      <td>2.930258</td>\n",
       "      <td>0.0</td>\n",
       "      <td>0.0</td>\n",
       "      <td>...</td>\n",
       "      <td>0.0</td>\n",
       "      <td>1.0</td>\n",
       "      <td>0.0</td>\n",
       "      <td>0.0</td>\n",
       "      <td>0.0</td>\n",
       "      <td>1.0</td>\n",
       "      <td>0.0</td>\n",
       "      <td>1.0</td>\n",
       "      <td>0.0</td>\n",
       "      <td>0.0</td>\n",
       "    </tr>\n",
       "    <tr>\n",
       "      <th>4</th>\n",
       "      <td>0xdb64</td>\n",
       "      <td>KNPRES14DEL02</td>\n",
       "      <td>24.0</td>\n",
       "      <td>4.7</td>\n",
       "      <td>2022-02-14</td>\n",
       "      <td>41</td>\n",
       "      <td>0.55</td>\n",
       "      <td>19.396618</td>\n",
       "      <td>0.0</td>\n",
       "      <td>1.0</td>\n",
       "      <td>...</td>\n",
       "      <td>1.0</td>\n",
       "      <td>0.0</td>\n",
       "      <td>1.0</td>\n",
       "      <td>0.0</td>\n",
       "      <td>0.0</td>\n",
       "      <td>1.0</td>\n",
       "      <td>0.0</td>\n",
       "      <td>1.0</td>\n",
       "      <td>0.0</td>\n",
       "      <td>0.0</td>\n",
       "    </tr>\n",
       "  </tbody>\n",
       "</table>\n",
       "<p>5 rows × 39 columns</p>\n",
       "</div>"
      ],
      "text/plain": [
       "       ID Delivery_person_ID  Delivery_person_Age  Delivery_person_Ratings   \n",
       "0  0xcdcd      DEHRES17DEL01                 36.0                      4.2  \\\n",
       "1  0xd987      KOCRES16DEL01                 21.0                      4.7   \n",
       "2  0x2784     PUNERES13DEL03                 23.0                      4.7   \n",
       "3  0xc8b6     LUDHRES15DEL02                 34.0                      4.3   \n",
       "4  0xdb64      KNPRES14DEL02                 24.0                      4.7   \n",
       "\n",
       "  Order_Date  Time_taken_min  time_before_pick   distance   \n",
       "0 2022-02-12              46              0.55  10.280582  \\\n",
       "1 2022-02-13              23              0.50   6.242319   \n",
       "2 2022-03-04              21              0.10  13.787860   \n",
       "3 2022-02-13              20              0.10   2.930258   \n",
       "4 2022-02-14              41              0.55  19.396618   \n",
       "\n",
       "   Weather_conditions_Cloudy  Weather_conditions_Fog  ...   \n",
       "0                        0.0                     1.0  ...  \\\n",
       "1                        0.0                     0.0  ...   \n",
       "2                        0.0                     0.0  ...   \n",
       "3                        0.0                     0.0  ...   \n",
       "4                        0.0                     1.0  ...   \n",
       "\n",
       "   Type_of_vehicle_scooter  multiple_deliveries_0.0  multiple_deliveries_1.0   \n",
       "0                      0.0                      0.0                      0.0  \\\n",
       "1                      0.0                      0.0                      1.0   \n",
       "2                      1.0                      0.0                      1.0   \n",
       "3                      0.0                      1.0                      0.0   \n",
       "4                      1.0                      0.0                      1.0   \n",
       "\n",
       "   multiple_deliveries_2.0  multiple_deliveries_3.0  Festival_No   \n",
       "0                      0.0                      1.0          1.0  \\\n",
       "1                      0.0                      0.0          1.0   \n",
       "2                      0.0                      0.0          1.0   \n",
       "3                      0.0                      0.0          1.0   \n",
       "4                      0.0                      0.0          1.0   \n",
       "\n",
       "   Festival_Yes  City_Metropolitian  City_Semi-Urban  City_Urban  \n",
       "0           0.0                 1.0              0.0         0.0  \n",
       "1           0.0                 1.0              0.0         0.0  \n",
       "2           0.0                 1.0              0.0         0.0  \n",
       "3           0.0                 1.0              0.0         0.0  \n",
       "4           0.0                 1.0              0.0         0.0  \n",
       "\n",
       "[5 rows x 39 columns]"
      ]
     },
     "execution_count": 253,
     "metadata": {},
     "output_type": "execute_result"
    }
   ],
   "source": [
    "embeded_data= data_copy.copy()\n",
    "embeded_data=embeded_data.drop(columns=['Weather_conditions', 'Road_traffic_density','Vehicle_condition','Type_of_order','Type_of_vehicle','multiple_deliveries','Festival','City'])\n",
    "new_df=embeded_data.join(enc_data)\n",
    "new_df.head()"
   ]
  },
  {
   "attachments": {},
   "cell_type": "markdown",
   "metadata": {},
   "source": [
    "##### We will consider some changes here as few data are not needed for training and testing of data. Hence we can drop off column as: ID, Delivery_person_ID, Order_Date\n",
    "##### Drop and append target column"
   ]
  },
  {
   "cell_type": "code",
   "execution_count": 254,
   "metadata": {},
   "outputs": [],
   "source": [
    "new_df=new_df.drop(columns=['ID','Delivery_person_ID','Order_Date','Time_taken_min'])"
   ]
  },
  {
   "cell_type": "code",
   "execution_count": 255,
   "metadata": {},
   "outputs": [],
   "source": [
    "new_df['Time_taken_min']=data_copy['Time_taken_min']\n",
    "X=new_df.iloc[:,:-1]\n",
    "y=new_df.iloc[:,-1]"
   ]
  },
  {
   "cell_type": "code",
   "execution_count": 256,
   "metadata": {},
   "outputs": [],
   "source": [
    "from sklearn.model_selection import train_test_split\n",
    "X_train,X_test,y_train,y_test=train_test_split(X,y,test_size=.20,random_state=42)"
   ]
  },
  {
   "cell_type": "code",
   "execution_count": 257,
   "metadata": {},
   "outputs": [],
   "source": [
    "from sklearn.preprocessing import StandardScaler\n",
    "scale=StandardScaler()\n",
    "X_train=scale.fit_transform(X_train)\n",
    "X_test=scale.transform(X_test)"
   ]
  },
  {
   "attachments": {},
   "cell_type": "markdown",
   "metadata": {},
   "source": [
    "#### Model Training and prediction:\n",
    "#### Following models we will use:\n",
    "###### 1. Linear Regression\n",
    "###### 2. L1,L2 and Elastic-net\n",
    "###### 3. Decision Tree\n",
    "###### 4. Random Forest\n"
   ]
  },
  {
   "cell_type": "code",
   "execution_count": 258,
   "metadata": {},
   "outputs": [],
   "source": [
    "from sklearn.linear_model import LinearRegression,Lasso,Ridge,ElasticNet\n",
    "from sklearn.ensemble import RandomForestRegressor\n",
    "from sklearn.tree import DecisionTreeRegressor\n",
    "from sklearn.metrics import r2_score\n",
    "\n",
    "models={\n",
    "    LinearRegression: LinearRegression(),\n",
    "    'lasso': Lasso(),\n",
    "    'Ridge': Ridge(),\n",
    "    'ElasticNet':ElasticNet(),\n",
    "    'DecisionTree': DecisionTreeRegressor(),\n",
    "    'RandomForest': RandomForestRegressor()\n",
    "}\n",
    "\n",
    "#"
   ]
  },
  {
   "cell_type": "code",
   "execution_count": 259,
   "metadata": {},
   "outputs": [],
   "source": [
    "def evaluate_models(X_train,X_test,y_train,y_test,models):\n",
    "   \n",
    "    report={}\n",
    "    for i in range(len(models)):\n",
    "        model=list(models.values())[i]\n",
    "        #model trainning\n",
    "        model.fit(X_train,y_train)\n",
    "        y_test_predict=model.predict(X_test)\n",
    "        model_test_score=r2_score(y_test,y_test_predict)\n",
    "\n",
    "        report[list(models.keys())[i]]=model_test_score\n",
    "    return report"
   ]
  },
  {
   "cell_type": "code",
   "execution_count": 260,
   "metadata": {},
   "outputs": [
    {
     "name": "stdout",
     "output_type": "stream",
     "text": [
      "{<class 'sklearn.linear_model._base.LinearRegression'>: 0.5727043301430725, 'lasso': 0.47321571257392814, 'Ridge': 0.5727479370118731, 'ElasticNet': 0.48813996637729695, 'DecisionTree': 0.6547171656276194, 'RandomForest': 0.8126690465021571}\n",
      "================================\n",
      "The best model performance is for: RandomForest and it has R2 score of : 0.8126690465021571\n",
      "================================\n"
     ]
    }
   ],
   "source": [
    "model_report:dict=evaluate_models(X_train,X_test,y_train,y_test,models)\n",
    "print(model_report)\n",
    "print(\"=\"*32)\n",
    "best_model_score=max(sorted(model_report.values()))\n",
    "best_model_name=list(model_report.keys())[list(model_report.values()).index(best_model_score)]\n",
    "best_model=models[best_model_name]\n",
    "print(f\"The best model performance is for: {best_model_name} and it has R2 score of : {best_model_score}\")\n",
    "print(\"=\"*32)"
   ]
  },
  {
   "cell_type": "code",
   "execution_count": 261,
   "metadata": {},
   "outputs": [],
   "source": [
    "b_m=list(models.values())[list(model_report.values()).index(best_model_score)]\n",
    "predict=b_m.predict(xx)"
   ]
  },
  {
   "cell_type": "code",
   "execution_count": 262,
   "metadata": {},
   "outputs": [
    {
     "data": {
      "text/plain": [
       "(9117, 35)"
      ]
     },
     "execution_count": 262,
     "metadata": {},
     "output_type": "execute_result"
    }
   ],
   "source": [
    "X_test.shape"
   ]
  },
  {
   "cell_type": "code",
   "execution_count": 263,
   "metadata": {},
   "outputs": [
    {
     "data": {
      "text/plain": [
       "array([32.43])"
      ]
     },
     "execution_count": 263,
     "metadata": {},
     "output_type": "execute_result"
    }
   ],
   "source": [
    "predict"
   ]
  }
 ],
 "metadata": {
  "kernelspec": {
   "display_name": "Python 3",
   "language": "python",
   "name": "python3"
  },
  "language_info": {
   "codemirror_mode": {
    "name": "ipython",
    "version": 3
   },
   "file_extension": ".py",
   "mimetype": "text/x-python",
   "name": "python",
   "nbconvert_exporter": "python",
   "pygments_lexer": "ipython3",
   "version": "3.8.0"
  },
  "orig_nbformat": 4
 },
 "nbformat": 4,
 "nbformat_minor": 2
}
